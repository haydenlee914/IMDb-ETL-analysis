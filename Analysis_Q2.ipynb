{
 "cells": [
  {
   "cell_type": "code",
   "execution_count": 1,
   "outputs": [],
   "source": [
    "# Import necessary packages\n",
    "import networkx as nx\n",
    "import plotly.graph_objs as go\n",
    "import gradio as gr\n",
    "import pandas as pd\n",
    "from sqlalchemy import create_engine"
   ],
   "metadata": {
    "collapsed": false,
    "ExecuteTime": {
     "end_time": "2023-12-04T05:53:34.867728200Z",
     "start_time": "2023-12-04T05:53:24.729460300Z"
    }
   }
  },
  {
   "cell_type": "code",
   "execution_count": 6,
   "outputs": [],
   "source": [
    "# Connect to RDS\n",
    "db_username = 'admin'\n",
    "db_password = 'groupdb1234567890'\n",
    "db_host = 'groupdb.clvyneobhqj2.us-east-1.rds.amazonaws.com'\n",
    "db_name = 'IMDB_NORMALIZED'\n",
    "\n",
    "engine = create_engine(f\"mysql+mysqlconnector://{db_username}:{db_password}@{db_host}/{db_name}\")"
   ],
   "metadata": {
    "collapsed": false,
    "ExecuteTime": {
     "end_time": "2023-12-04T05:56:12.264500Z",
     "start_time": "2023-12-04T05:56:12.174449800Z"
    }
   }
  },
  {
   "cell_type": "code",
   "execution_count": 11,
   "outputs": [
    {
     "data": {
      "text/plain": "   relationshipId person1_id  person1_professionId person2_id  \\\n0               1  nm0000001                    18  nm0000328   \n1               2  nm0000001                    18  nm0000328   \n2               3  nm0000001                    18  nm0000328   \n3               4  nm0000001                    18  nm0000740   \n4               5  nm0000001                    18  nm0000740   \n\n   person2_professionId  movieCount  averageRating  averageNumVotes  \n0                    18           1            7.0          47189.0  \n1                    28           1            7.0          47189.0  \n2                    33           1            7.0          47189.0  \n3                     3           1            7.0          47189.0  \n4                    25           1            7.0          47189.0  ",
      "text/html": "<div>\n<style scoped>\n    .dataframe tbody tr th:only-of-type {\n        vertical-align: middle;\n    }\n\n    .dataframe tbody tr th {\n        vertical-align: top;\n    }\n\n    .dataframe thead th {\n        text-align: right;\n    }\n</style>\n<table border=\"1\" class=\"dataframe\">\n  <thead>\n    <tr style=\"text-align: right;\">\n      <th></th>\n      <th>relationshipId</th>\n      <th>person1_id</th>\n      <th>person1_professionId</th>\n      <th>person2_id</th>\n      <th>person2_professionId</th>\n      <th>movieCount</th>\n      <th>averageRating</th>\n      <th>averageNumVotes</th>\n    </tr>\n  </thead>\n  <tbody>\n    <tr>\n      <th>0</th>\n      <td>1</td>\n      <td>nm0000001</td>\n      <td>18</td>\n      <td>nm0000328</td>\n      <td>18</td>\n      <td>1</td>\n      <td>7.0</td>\n      <td>47189.0</td>\n    </tr>\n    <tr>\n      <th>1</th>\n      <td>2</td>\n      <td>nm0000001</td>\n      <td>18</td>\n      <td>nm0000328</td>\n      <td>28</td>\n      <td>1</td>\n      <td>7.0</td>\n      <td>47189.0</td>\n    </tr>\n    <tr>\n      <th>2</th>\n      <td>3</td>\n      <td>nm0000001</td>\n      <td>18</td>\n      <td>nm0000328</td>\n      <td>33</td>\n      <td>1</td>\n      <td>7.0</td>\n      <td>47189.0</td>\n    </tr>\n    <tr>\n      <th>3</th>\n      <td>4</td>\n      <td>nm0000001</td>\n      <td>18</td>\n      <td>nm0000740</td>\n      <td>3</td>\n      <td>1</td>\n      <td>7.0</td>\n      <td>47189.0</td>\n    </tr>\n    <tr>\n      <th>4</th>\n      <td>5</td>\n      <td>nm0000001</td>\n      <td>18</td>\n      <td>nm0000740</td>\n      <td>25</td>\n      <td>1</td>\n      <td>7.0</td>\n      <td>47189.0</td>\n    </tr>\n  </tbody>\n</table>\n</div>"
     },
     "execution_count": 11,
     "metadata": {},
     "output_type": "execute_result"
    }
   ],
   "source": [
    "# Read data from RDS\n",
    "query = \"SELECT * FROM RelationshipFact\"\n",
    "RelationshipFact = pd.read_sql(query, engine)\n",
    "RelationshipFact.head()"
   ],
   "metadata": {
    "collapsed": false,
    "ExecuteTime": {
     "end_time": "2023-12-04T06:09:47.323927400Z",
     "start_time": "2023-12-04T06:01:45.951368800Z"
    }
   }
  },
  {
   "cell_type": "code",
   "execution_count": 13,
   "metadata": {
    "ExecuteTime": {
     "end_time": "2023-12-04T06:10:54.302512600Z",
     "start_time": "2023-12-04T06:10:54.051101800Z"
    }
   },
   "outputs": [
    {
     "data": {
      "text/plain": "   professionId             profession\n0             0                 editor\n1             1          choreographer\n2             2  production_department\n3             3                 writer\n4             4                manager",
      "text/html": "<div>\n<style scoped>\n    .dataframe tbody tr th:only-of-type {\n        vertical-align: middle;\n    }\n\n    .dataframe tbody tr th {\n        vertical-align: top;\n    }\n\n    .dataframe thead th {\n        text-align: right;\n    }\n</style>\n<table border=\"1\" class=\"dataframe\">\n  <thead>\n    <tr style=\"text-align: right;\">\n      <th></th>\n      <th>professionId</th>\n      <th>profession</th>\n    </tr>\n  </thead>\n  <tbody>\n    <tr>\n      <th>0</th>\n      <td>0</td>\n      <td>editor</td>\n    </tr>\n    <tr>\n      <th>1</th>\n      <td>1</td>\n      <td>choreographer</td>\n    </tr>\n    <tr>\n      <th>2</th>\n      <td>2</td>\n      <td>production_department</td>\n    </tr>\n    <tr>\n      <th>3</th>\n      <td>3</td>\n      <td>writer</td>\n    </tr>\n    <tr>\n      <th>4</th>\n      <td>4</td>\n      <td>manager</td>\n    </tr>\n  </tbody>\n</table>\n</div>"
     },
     "execution_count": 13,
     "metadata": {},
     "output_type": "execute_result"
    }
   ],
   "source": [
    "query = \"SELECT * FROM Profession\"\n",
    "profession = pd.read_sql(query, engine)\n",
    "profession.head()"
   ]
  },
  {
   "cell_type": "code",
   "execution_count": 14,
   "metadata": {
    "ExecuteTime": {
     "end_time": "2023-12-04T06:11:23.612174100Z",
     "start_time": "2023-12-04T06:11:01.417173400Z"
    }
   },
   "outputs": [
    {
     "data": {
      "text/plain": "    personId      primaryName birthYear deathYear\n0  nm0000001     Fred Astaire      1899      1987\n1  nm0000002    Lauren Bacall      1924      2014\n2  nm0000003  Brigitte Bardot      1934        \\N\n3  nm0000004     John Belushi      1949      1982\n4  nm0000005   Ingmar Bergman      1918      2007",
      "text/html": "<div>\n<style scoped>\n    .dataframe tbody tr th:only-of-type {\n        vertical-align: middle;\n    }\n\n    .dataframe tbody tr th {\n        vertical-align: top;\n    }\n\n    .dataframe thead th {\n        text-align: right;\n    }\n</style>\n<table border=\"1\" class=\"dataframe\">\n  <thead>\n    <tr style=\"text-align: right;\">\n      <th></th>\n      <th>personId</th>\n      <th>primaryName</th>\n      <th>birthYear</th>\n      <th>deathYear</th>\n    </tr>\n  </thead>\n  <tbody>\n    <tr>\n      <th>0</th>\n      <td>nm0000001</td>\n      <td>Fred Astaire</td>\n      <td>1899</td>\n      <td>1987</td>\n    </tr>\n    <tr>\n      <th>1</th>\n      <td>nm0000002</td>\n      <td>Lauren Bacall</td>\n      <td>1924</td>\n      <td>2014</td>\n    </tr>\n    <tr>\n      <th>2</th>\n      <td>nm0000003</td>\n      <td>Brigitte Bardot</td>\n      <td>1934</td>\n      <td>\\N</td>\n    </tr>\n    <tr>\n      <th>3</th>\n      <td>nm0000004</td>\n      <td>John Belushi</td>\n      <td>1949</td>\n      <td>1982</td>\n    </tr>\n    <tr>\n      <th>4</th>\n      <td>nm0000005</td>\n      <td>Ingmar Bergman</td>\n      <td>1918</td>\n      <td>2007</td>\n    </tr>\n  </tbody>\n</table>\n</div>"
     },
     "execution_count": 14,
     "metadata": {},
     "output_type": "execute_result"
    }
   ],
   "source": [
    "query = \"SELECT * FROM Person\"\n",
    "Person = pd.read_sql(query, engine)\n",
    "Person.head()"
   ]
  },
  {
   "cell_type": "code",
   "execution_count": 15,
   "metadata": {
    "ExecuteTime": {
     "end_time": "2023-12-04T06:11:50.981307100Z",
     "start_time": "2023-12-04T06:11:49.751192Z"
    }
   },
   "outputs": [
    {
     "data": {
      "text/plain": "    personId  professionId\n0  nm0000083             0\n1  nm0000180             0\n2  nm0000419             0\n3  nm0000425             0\n4  nm0000774             0",
      "text/html": "<div>\n<style scoped>\n    .dataframe tbody tr th:only-of-type {\n        vertical-align: middle;\n    }\n\n    .dataframe tbody tr th {\n        vertical-align: top;\n    }\n\n    .dataframe thead th {\n        text-align: right;\n    }\n</style>\n<table border=\"1\" class=\"dataframe\">\n  <thead>\n    <tr style=\"text-align: right;\">\n      <th></th>\n      <th>personId</th>\n      <th>professionId</th>\n    </tr>\n  </thead>\n  <tbody>\n    <tr>\n      <th>0</th>\n      <td>nm0000083</td>\n      <td>0</td>\n    </tr>\n    <tr>\n      <th>1</th>\n      <td>nm0000180</td>\n      <td>0</td>\n    </tr>\n    <tr>\n      <th>2</th>\n      <td>nm0000419</td>\n      <td>0</td>\n    </tr>\n    <tr>\n      <th>3</th>\n      <td>nm0000425</td>\n      <td>0</td>\n    </tr>\n    <tr>\n      <th>4</th>\n      <td>nm0000774</td>\n      <td>0</td>\n    </tr>\n  </tbody>\n</table>\n</div>"
     },
     "execution_count": 15,
     "metadata": {},
     "output_type": "execute_result"
    }
   ],
   "source": [
    "query = \"SELECT * FROM PersonProfession\"\n",
    "PersonProfession = pd.read_sql(query, engine)\n",
    "PersonProfession.head()"
   ]
  },
  {
   "cell_type": "code",
   "execution_count": 25,
   "metadata": {
    "ExecuteTime": {
     "end_time": "2023-12-04T06:44:10.358347200Z",
     "start_time": "2023-12-04T06:43:50.915361Z"
    }
   },
   "outputs": [
    {
     "name": "stdout",
     "output_type": "stream",
     "text": [
      "Running on local URL:  http://127.0.0.1:7864\n",
      "Running on public URL: https://eac19e5ff9245fc94b.gradio.live\n",
      "\n",
      "This share link expires in 72 hours. For free permanent hosting and GPU upgrades, run `gradio deploy` from Terminal to deploy to Spaces (https://huggingface.co/spaces)\n"
     ]
    },
    {
     "data": {
      "text/plain": "<IPython.core.display.HTML object>",
      "text/html": "<div><iframe src=\"https://eac19e5ff9245fc94b.gradio.live\" width=\"100%\" height=\"500\" allow=\"autoplay; camera; microphone; clipboard-read; clipboard-write;\" frameborder=\"0\" allowfullscreen></iframe></div>"
     },
     "metadata": {},
     "output_type": "display_data"
    },
    {
     "data": {
      "text/plain": ""
     },
     "execution_count": 25,
     "metadata": {},
     "output_type": "execute_result"
    }
   ],
   "source": [
    "\"\"\"\n",
    "    Purpose of the Collaboration function : To find collaborations between a specific person and others in the IMDb dataset based on professions.\n",
    "    Inputs:\n",
    "    - Name: Name of the primary person (string).\n",
    "    - Profession_1: Primary profession of interest (string).\n",
    "    - Profession_2: Secondary profession for collaboration (string).\n",
    "    Process: Retrieves profession IDs, finds the primary person's ID, and gathers collaboration data.\n",
    "    Output: DataFrame containing aggregated collaboration data based on movie count, average rating, and average number of votes.\n",
    "\n",
    "\"\"\"\n",
    "def collaboration(Name, Profession_1, Profession_2):\n",
    "\n",
    "\n",
    "    primary_profession_id = profession[profession['profession'] == Profession_1]['professionId'].iloc[0]\n",
    "    secondary_profession_id = profession[profession['profession'] == Profession_2]['professionId'].iloc[0]\n",
    "    primary_person_name = Name\n",
    "\n",
    "    query_result = Person.merge(PersonProfession, on='personId') \\\n",
    "                         .query(\"primaryName == @primary_person_name and professionId == @primary_profession_id\")\n",
    "\n",
    "    if not query_result.empty:\n",
    "        primary_person_id = query_result['personId'].iloc[0]\n",
    "    else:\n",
    "        primary_person_id = None\n",
    "\n",
    "    if primary_person_id is not None:\n",
    "        collaborations = RelationshipFact.merge(PersonProfession, left_on='person2_id', right_on='personId') \\\n",
    "                                         .query(\"person1_id == @primary_person_id and professionId == @secondary_profession_id\") \\\n",
    "                                         [['person2_id', 'movieCount', 'averageRating', 'averageNumVotes']]\n",
    "        collaborations = collaborations.merge(Person, left_on='person2_id', right_on='personId', how='left') \\\n",
    "                                       .rename(columns={'primaryName': 'person2_name'}) \\\n",
    "                                       [['person2_name', 'movieCount', 'averageRating', 'averageNumVotes']]\n",
    "        aggregated_collaborations = collaborations.groupby('person2_name').agg({\n",
    "            'movieCount': 'mean',\n",
    "            'averageRating': 'mean',\n",
    "            'averageNumVotes': 'mean'\n",
    "        }).reset_index()\n",
    "        return aggregated_collaborations\n",
    "    else:\n",
    "        return pd.DataFrame()\n",
    "\n",
    "\n",
    "def rank_values_ascending(data, interest):\n",
    "    values = data[interest]\n",
    "    sorted_values = sorted(values)\n",
    "    rank_dict = {v: i + 1 for i, v in enumerate(sorted(set(sorted_values)))}\n",
    "    data[interest] = [rank_dict[v] for v in values]\n",
    "    return data\n",
    "\n",
    "\"\"\"\n",
    "The Purpose of the fucntion below is to create an interactive network graph using Plotly based on collaboration data.\n",
    "Inputs:\n",
    "- Name: Central node name (string).\n",
    "- Profession_1: First profession (string).\n",
    "- Profession_2: Second profession (string).\n",
    "- interest: Column to determine node size (string).\n",
    "Output: Plotly figure of the network graph.\n",
    "\n",
    "\"\"\"\n",
    "def create_interactive_network(Name, Profession_1, Profession_2, interest):\n",
    "\n",
    "    data = collaboration(Name, Profession_1, Profession_2)\n",
    "    if data.empty:\n",
    "        return \"No data found for the given inputs.\"\n",
    "    data = rank_values_ascending(data, interest)\n",
    "\n",
    "\n",
    "    G = nx.Graph()\n",
    "    G.add_node(Name, size=20, color='red')  # Central node color\n",
    "\n",
    "    for position, count in zip(data['person2_name'], data[interest]):\n",
    "        # Assign a default color for each node, e.g., 'blue'\n",
    "        G.add_node(position, size=count * 10, color='blue')\n",
    "        G.add_edge(Name, position)\n",
    "\n",
    "    pos = nx.spring_layout(G)\n",
    "\n",
    "    edge_trace = go.Scatter(x=[], y=[], line=dict(width=0.5, color='#888'), hoverinfo='none', mode='lines')\n",
    "    for edge in G.edges():\n",
    "        x0, y0 = pos[edge[0]]\n",
    "        x1, y1 = pos[edge[1]]\n",
    "        edge_trace['x'] += tuple([x0, x1, None])\n",
    "        edge_trace['y'] += tuple([y0, y1, None])\n",
    "\n",
    "    node_trace = go.Scatter(x=[], y=[], text=[], mode='markers+text', hoverinfo='text',\n",
    "                            marker=dict(showscale=False, colorscale='YlGnBu', size=[], color=[], opacity=0.8, line_width=2))\n",
    "    for node in G.nodes():\n",
    "        x, y = pos[node]\n",
    "        node_trace['x'] += tuple([x])\n",
    "        node_trace['y'] += tuple([y])\n",
    "        node_trace['text'] += tuple([f'{node}'])\n",
    "        node_trace['marker']['size'] += tuple([G.nodes[node]['size']])\n",
    "        # Use the color attribute from the node\n",
    "        node_trace['marker']['color'] += tuple([G.nodes[node]['color']])\n",
    "\n",
    "    fig = go.Figure(data=[edge_trace, node_trace],\n",
    "                    layout=go.Layout(title=f'Network graph with {Name} as the central node',\n",
    "                                     titlefont_size=16, showlegend=False, hovermode='closest',\n",
    "                                     margin=dict(b=20, l=5, r=5, t=40),\n",
    "                                     xaxis=dict(showgrid=False, zeroline=False, showticklabels=False),\n",
    "                                     yaxis=dict(showgrid=False, zeroline=False, showticklabels=False)))\n",
    "    return fig\n",
    "# Define the list of options for the 'interest' parameter\n",
    "interest_options = ['movieCount', 'averageRating', 'averageNumVotes']\n",
    "\n",
    "# Create a Gradio interface\n",
    "# Interface for generating a network graph based on IMDb collaborations.\n",
    "def gradio_network_graph(Name, Profession_1, Profession_2, interest):\n",
    "    fig = create_interactive_network(Name, Profession_1, Profession_2, interest)\n",
    "    return fig\n",
    "\n",
    "iface = gr.Interface(\n",
    "    fn=gradio_network_graph,\n",
    "    inputs=[\n",
    "        gr.Textbox(label=\"Central Node Name\"),\n",
    "        gr.Textbox(label=\"Profession 1\"),\n",
    "        gr.Textbox(label=\"Profession 2\"),\n",
    "        gr.Dropdown(choices=interest_options, label=\"Interest\")\n",
    "    ],\n",
    "    outputs=gr.Plot(label=\"Network Graph\"),\n",
    "    title=\"Network Graph Generator\",\n",
    "    description=\"Enter the central node name, two professions, and select an interest column to generate a network graph.\"\n",
    ")\n",
    "\n",
    "# Run the interface\n",
    "iface.launch(share=True)\n"
   ]
  },
  {
   "cell_type": "code",
   "execution_count": null,
   "outputs": [],
   "source": [],
   "metadata": {
    "collapsed": false
   }
  }
 ],
 "metadata": {
  "kernelspec": {
   "display_name": "Python 3",
   "language": "python",
   "name": "python3"
  },
  "language_info": {
   "codemirror_mode": {
    "name": "ipython",
    "version": 3
   },
   "file_extension": ".py",
   "mimetype": "text/x-python",
   "name": "python",
   "nbconvert_exporter": "python",
   "pygments_lexer": "ipython3",
   "version": "3.10.6"
  }
 },
 "nbformat": 4,
 "nbformat_minor": 2
}
